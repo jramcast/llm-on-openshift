{
 "cells": [
  {
   "cell_type": "code",
   "execution_count": null,
   "id": "1b9577e8-93f9-4ba4-b341-16d3f4d3172c",
   "metadata": {
    "tags": []
   },
   "outputs": [],
   "source": [
    "!pip install GitPython"
   ]
  },
  {
   "cell_type": "code",
   "execution_count": null,
   "id": "0eb29759-91ed-4059-b91a-9a99b2ea3b09",
   "metadata": {
    "tags": []
   },
   "outputs": [],
   "source": [
    "# Create courses dir\n",
    "!mkdir -p ~/courses"
   ]
  },
  {
   "cell_type": "code",
   "execution_count": null,
   "id": "382af325-8767-4b91-9dab-4caa35c78e04",
   "metadata": {
    "tags": []
   },
   "outputs": [],
   "source": [
    "SKUS = [\n",
    "    \"AD141\",\n",
    "    \"AD348\",\n",
    "    \"CL210\",\n",
    "    \"CL260\",\n",
    "    \"DO100\",\n",
    "    \"DO101\",\n",
    "    \"DO120\",\n",
    "    \"DO121\",\n",
    "    \"DO313\",\n",
    "    \"DO316\",\n",
    "    \"DO322\",\n",
    "    \"DO370\",\n",
    "    \"DO417\",\n",
    "    \"RH024\",\n",
    "    \"RH104\",\n",
    "    \"RH318\",\n",
    "    \"RH362\",\n",
    "    \"RH442\",\n",
    "    \"TL112\",\n",
    "    \"TL250\",\n",
    "    \"TL500\"\n",
    "]"
   ]
  },
  {
   "cell_type": "code",
   "execution_count": null,
   "id": "164c236a-3254-468c-9db0-265efb6616d4",
   "metadata": {
    "tags": []
   },
   "outputs": [],
   "source": [
    "from rht_git_clone import clone_course\n",
    "\n",
    "\n",
    "for sku in SKUS:\n",
    "    try:\n",
    "        clone_course(sku)\n",
    "    except Exception as e:\n",
    "        if \"Could not find remote branch main\" in str(e):\n",
    "            print(\"Retry clone from master\")\n",
    "            clone_course(sku, \"master\")\n",
    "        else:\n",
    "            print(e)"
   ]
  },
  {
   "cell_type": "code",
   "execution_count": null,
   "id": "86ab5d7b-660f-49c3-bc53-808f5f7d0c26",
   "metadata": {},
   "outputs": [],
   "source": []
  }
 ],
 "metadata": {
  "kernelspec": {
   "display_name": "Python 3.11",
   "language": "python",
   "name": "python3"
  },
  "language_info": {
   "codemirror_mode": {
    "name": "ipython",
    "version": 3
   },
   "file_extension": ".py",
   "mimetype": "text/x-python",
   "name": "python",
   "nbconvert_exporter": "python",
   "pygments_lexer": "ipython3",
   "version": "3.11.4"
  }
 },
 "nbformat": 4,
 "nbformat_minor": 5
}
