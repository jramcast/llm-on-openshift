{
 "cells": [
  {
   "cell_type": "code",
   "execution_count": 1,
   "id": "1b9577e8-93f9-4ba4-b341-16d3f4d3172c",
   "metadata": {
    "tags": []
   },
   "outputs": [
    {
     "name": "stdout",
     "output_type": "stream",
     "text": [
      "\n",
      "\u001b[1m[\u001b[0m\u001b[34;49mnotice\u001b[0m\u001b[1;39;49m]\u001b[0m\u001b[39;49m A new release of pip is available: \u001b[0m\u001b[31;49m23.2.1\u001b[0m\u001b[39;49m -> \u001b[0m\u001b[32;49m23.3.2\u001b[0m\n",
      "\u001b[1m[\u001b[0m\u001b[34;49mnotice\u001b[0m\u001b[1;39;49m]\u001b[0m\u001b[39;49m To update, run: \u001b[0m\u001b[32;49mpip install --upgrade pip\u001b[0m\n"
     ]
    }
   ],
   "source": [
    "!pip install -q GitPython pgvector"
   ]
  },
  {
   "cell_type": "code",
   "execution_count": 2,
   "id": "0eb29759-91ed-4059-b91a-9a99b2ea3b09",
   "metadata": {
    "tags": []
   },
   "outputs": [],
   "source": [
    "# Create courses dir\n",
    "!mkdir -p ~/courses"
   ]
  },
  {
   "cell_type": "code",
   "execution_count": 2,
   "id": "382af325-8767-4b91-9dab-4caa35c78e04",
   "metadata": {
    "tags": []
   },
   "outputs": [],
   "source": [
    "from rht_git_clone import clone_course\n",
    "from rht_ingest_adoc import ingest_course\n",
    "\n",
    "SKUs = [\n",
    "    \"AD141\",\n",
    "    \"AD348\",\n",
    "    \"CL210\",\n",
    "    \"CL260\",\n",
    "    \"DO100\",\n",
    "    \"DO101\",\n",
    "    \"DO120\",\n",
    "    \"DO121\",\n",
    "    \"DO313\",\n",
    "    \"DO316\",\n",
    "    \"DO322\",\n",
    "    \"DO370\",\n",
    "    \"DO417\",\n",
    "    \"RH024\",\n",
    "    \"RH104\",\n",
    "    \"RH318\",\n",
    "    \"RH362\",\n",
    "    \"RH442\",\n",
    "    \"TL112\",\n",
    "    \"TL250\",\n",
    "    \"TL500\"\n",
    "]"
   ]
  },
  {
   "cell_type": "code",
   "execution_count": null,
   "id": "1d4316f1-7964-4009-aadf-a549190b76ab",
   "metadata": {
    "tags": []
   },
   "outputs": [
    {
     "name": "stdout",
     "output_type": "stream",
     "text": [
      "Loading AD141\n",
      "Splits added to PGvector store\n",
      "Loading AD348\n",
      "Splits added to PGvector store\n",
      "Loading CL210\n"
     ]
    }
   ],
   "source": [
    "for sku in SKUs:\n",
    "    try:\n",
    "        clone_course(sku)\n",
    "        ingest_course(sku)\n",
    "    except Exception as e:\n",
    "        print(e)"
   ]
  },
  {
   "cell_type": "code",
   "execution_count": null,
   "id": "a6a17be7-2f7f-4229-9d66-5e2e29a4ac07",
   "metadata": {},
   "outputs": [],
   "source": []
  }
 ],
 "metadata": {
  "kernelspec": {
   "display_name": "Python 3.11",
   "language": "python",
   "name": "python3"
  },
  "language_info": {
   "codemirror_mode": {
    "name": "ipython",
    "version": 3
   },
   "file_extension": ".py",
   "mimetype": "text/x-python",
   "name": "python",
   "nbconvert_exporter": "python",
   "pygments_lexer": "ipython3",
   "version": "3.11.4"
  }
 },
 "nbformat": 4,
 "nbformat_minor": 5
}
