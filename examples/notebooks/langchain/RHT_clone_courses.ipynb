{
 "cells": [
  {
   "cell_type": "code",
   "execution_count": 1,
   "id": "1b9577e8-93f9-4ba4-b341-16d3f4d3172c",
   "metadata": {
    "tags": []
   },
   "outputs": [
    {
     "name": "stdout",
     "output_type": "stream",
     "text": [
      "Requirement already satisfied: GitPython in /opt/app-root/lib64/python3.11/site-packages (3.1.37)\n",
      "Requirement already satisfied: gitdb<5,>=4.0.1 in /opt/app-root/lib64/python3.11/site-packages (from GitPython) (4.0.10)\n",
      "Requirement already satisfied: smmap<6,>=3.0.1 in /opt/app-root/lib64/python3.11/site-packages (from gitdb<5,>=4.0.1->GitPython) (5.0.1)\n",
      "\n",
      "\u001b[1m[\u001b[0m\u001b[34;49mnotice\u001b[0m\u001b[1;39;49m]\u001b[0m\u001b[39;49m A new release of pip is available: \u001b[0m\u001b[31;49m23.2.1\u001b[0m\u001b[39;49m -> \u001b[0m\u001b[32;49m23.3.2\u001b[0m\n",
      "\u001b[1m[\u001b[0m\u001b[34;49mnotice\u001b[0m\u001b[1;39;49m]\u001b[0m\u001b[39;49m To update, run: \u001b[0m\u001b[32;49mpip install --upgrade pip\u001b[0m\n"
     ]
    }
   ],
   "source": [
    "!pip install GitPython"
   ]
  },
  {
   "cell_type": "code",
   "execution_count": 2,
   "id": "0eb29759-91ed-4059-b91a-9a99b2ea3b09",
   "metadata": {
    "tags": []
   },
   "outputs": [],
   "source": [
    "# Create courses dir\n",
    "!mkdir -p ~/courses"
   ]
  },
  {
   "cell_type": "code",
   "execution_count": 3,
   "id": "382af325-8767-4b91-9dab-4caa35c78e04",
   "metadata": {
    "tags": []
   },
   "outputs": [],
   "source": [
    "SKUS = [\n",
    "    \"AD248\",\n",
    "    \"AD482\",\n",
    "    \"DO180\",\n",
    "    \"DO188\",\n",
    "    \"DO280\",\n",
    "    \"DO288\",\n",
    "    \"DO378\",\n",
    "    \"RH124\",\n",
    "    \"RH134\",\n",
    "    \"RH294\",\n",
    "    \"RH342\"\n",
    "]"
   ]
  },
  {
   "cell_type": "code",
   "execution_count": 4,
   "id": "164c236a-3254-468c-9db0-265efb6616d4",
   "metadata": {
    "tags": []
   },
   "outputs": [],
   "source": [
    "from rht_git_clone import clone_course\n",
    "\n",
    "\n",
    "for sku in SKUS:\n",
    "    clone_course(sku)"
   ]
  }
 ],
 "metadata": {
  "kernelspec": {
   "display_name": "Python 3.11",
   "language": "python",
   "name": "python3"
  },
  "language_info": {
   "codemirror_mode": {
    "name": "ipython",
    "version": 3
   },
   "file_extension": ".py",
   "mimetype": "text/x-python",
   "name": "python",
   "nbconvert_exporter": "python",
   "pygments_lexer": "ipython3",
   "version": "3.11.4"
  }
 },
 "nbformat": 4,
 "nbformat_minor": 5
}
